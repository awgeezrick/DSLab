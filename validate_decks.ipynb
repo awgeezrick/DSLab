{
 "cells": [
  {
   "cell_type": "code",
   "execution_count": 10,
   "metadata": {},
   "outputs": [],
   "source": [
    "import json\n",
    "from pprint import pprint\n",
    "import os\n",
    "# for filename in os.listdir('botless_decks'):\n",
    "#     with open('botless_decks/'+filename) as x:\n",
    "#         data = json.load(x)\n",
    "#     pprint(data)"
   ]
  },
  {
   "cell_type": "markdown",
   "metadata": {},
   "source": [
    "**Validation - Check if draft has 45 cards**\n",
    "\n",
    "**Don't run unless data has changed, it takes a long time**"
   ]
  },
  {
   "cell_type": "markdown",
   "metadata": {},
   "source": [
    "JSON Format:\n",
    "\n",
    "{decks: \n",
    "    [{...}, {...}]\n",
    "}"
   ]
  },
  {
   "cell_type": "code",
   "execution_count": 11,
   "metadata": {},
   "outputs": [],
   "source": [
    "# # decks JSON\n",
    "# decks = []\n",
    "\n",
    "# for filename in os.listdir('botless_decks'):\n",
    "#     with open('botless_decks/'+filename) as x:\n",
    "#         data = json.load(x)['mainboard']\n",
    "#         #validate 45 in mainboard\n",
    "#         total = 0\n",
    "#         pprint(data)\n",
    "#         for key, value in data.items():\n",
    "#             total += value\n",
    "#         if total == 45:\n",
    "#             decks.append(data)\n",
    "            "
   ]
  },
  {
   "cell_type": "code",
   "execution_count": 12,
   "metadata": {},
   "outputs": [],
   "source": [
    "# validated_decks = {'decks': decks}\n",
    "# with open('validated_decks.json', 'w') as outfile:\n",
    "#     json.dump(validated_decks, outfile)"
   ]
  },
  {
   "cell_type": "code",
   "execution_count": 14,
   "metadata": {},
   "outputs": [],
   "source": [
    "with open('validated_decks.json', 'r') as infile:\n",
    "    validated_decks = json.load(infile)"
   ]
  },
  {
   "cell_type": "code",
   "execution_count": null,
   "metadata": {},
   "outputs": [],
   "source": []
  }
 ],
 "metadata": {
  "kernelspec": {
   "display_name": "Python 3",
   "language": "python",
   "name": "python3"
  },
  "language_info": {
   "codemirror_mode": {
    "name": "ipython",
    "version": 3
   },
   "file_extension": ".py",
   "mimetype": "text/x-python",
   "name": "python",
   "nbconvert_exporter": "python",
   "pygments_lexer": "ipython3",
   "version": "3.7.1"
  }
 },
 "nbformat": 4,
 "nbformat_minor": 2
}
